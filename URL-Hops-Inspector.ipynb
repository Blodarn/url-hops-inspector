{
 "cells": [
  {
   "cell_type": "code",
   "execution_count": 14,
   "id": "d32f1d05-1131-40fe-af9f-8e45b7b3a158",
   "metadata": {
    "jupyter": {
     "source_hidden": true
    }
   },
   "outputs": [
    {
     "data": {
      "application/vnd.jupyter.widget-view+json": {
       "model_id": "138e2b369596409da93ec234eab166b2",
       "version_major": 2,
       "version_minor": 0
      },
      "text/plain": [
       "VBox(children=(HTML(value=\"<div id='intro' style='width:670px;border-radius:0.25rem;background-color:#f8f9fa;b…"
      ]
     },
     "metadata": {},
     "output_type": "display_data"
    }
   ],
   "source": [
    "# Import the required library\n",
    "import requests\n",
    "from ipywidgets import widgets, VBox, HBox, Output\n",
    "from IPython.display import display\n",
    "\n",
    "# Function to trace URL redirects and display detailed HTTP info\n",
    "def trace_url_jumps_with_details(initial_url, proxy=None):\n",
    "    try:\n",
    "        # Configure proxy if provided\n",
    "        proxies = {\"http\": proxy, \"https\": proxy} if proxy else None\n",
    "\n",
    "        # Make a GET request with proxy and enable redirect tracking\n",
    "        response = requests.get(initial_url, allow_redirects=True, proxies=proxies)\n",
    "\n",
    "        if response.history:\n",
    "            print(f\"\\n🔍 Tracing URL redirects for: {initial_url}\")\n",
    "            print(\"\\n--------------------------------------------------\\n\")\n",
    "            for i, resp in enumerate(response.history, start=1):\n",
    "                print(f\"➡️  **Hop #{i}**\")\n",
    "                print(f\"🌐 Request URL: {resp.url}\")\n",
    "                print(f\"📄 Status Code: {resp.status_code} {'✅ Success' if resp.status_code == 200 else '🔄 Redirect'}\")\n",
    "                print(\"📬 Headers:\")\n",
    "                for key, value in resp.headers.items():\n",
    "                    print(f\"  📎 {key}: {value}\")\n",
    "                print(\"📝 Response body (limit 200 chars):\")\n",
    "                print(resp.text[:200] if resp.text else \"⚠️ (No body)\")\n",
    "                print(\"\\n--------------------------------------------------\\n\")\n",
    "\n",
    "        # Final response (landing page)\n",
    "        print(\"🎯 **Final Destination:**\")\n",
    "        print(f\"🌐 URL: {response.url}\")\n",
    "        print(f\"📄 Status Code: {response.status_code} {'✅ Success' if response.status_code == 200 else '⚠️ Warning'}\")\n",
    "        print(\"📬 Headers:\")\n",
    "        for key, value in response.headers.items():\n",
    "            print(f\"  📎 {key}: {value}\")\n",
    "        print(\"📝 Response body (limit 200 chars):\")\n",
    "        print(response.text[:200] if response.text else \"⚠️ (No body)\")\n",
    "        print(\"🎉 Inspection Complete!\")\n",
    "\n",
    "        return response.url  # Return the final destination URL as the result\n",
    "\n",
    "    except requests.exceptions.RequestException as e:\n",
    "        # Handle potential request errors (e.g., invalid links, connectivity, or proxy issues)\n",
    "        print(f\"❌ An error occurred: {e}\")\n",
    "        return None\n",
    "\n",
    "###################################\n",
    "# CLICK EVENT HANDLERS FOR BUTTONS #\n",
    "###################################\n",
    "def on_click_trace(b):\n",
    "    with output:  # Redirect all output to the Output widget\n",
    "        output.clear_output()  # Clear previous output in the widget\n",
    "        # Getting user input from the text box\n",
    "        url_to_trace = user_url.value.strip()\n",
    "\n",
    "        # Optional proxy input from user\n",
    "        proxy = None  # For simplicity, proxy input is skipped in this GUI version\n",
    "\n",
    "        # Validate input\n",
    "        if not url_to_trace.startswith((\"http://\", \"https://\")):\n",
    "            print(\"⚠️ Error: Please ensure the URL starts with `http://` or `https://`. Example: https://example.com\")\n",
    "        else:\n",
    "            # Call the trace function and display the results\n",
    "            final_url = trace_url_jumps_with_details(url_to_trace, proxy=proxy)\n",
    "            if final_url:\n",
    "                print(f\"\\n✅ The final resolved URL is: {final_url}\")\n",
    "\n",
    "def on_click_clear(b):\n",
    "    with output:\n",
    "        output.clear_output()  # Clear the Output widget's content\n",
    "\n",
    "######################\n",
    "# GUI IMPLEMENTATION #\n",
    "######################\n",
    "# Widgets\n",
    "user_url = widgets.Text(\n",
    "    placeholder='Enter the URL to trace',\n",
    "    description='',\n",
    "    layout=widgets.Layout(width='700px')\n",
    ")\n",
    "\n",
    "output = Output()\n",
    "\n",
    "# Buttons for services\n",
    "run_button = widgets.Button(description='Run', button_style='success')\n",
    "clear_button = widgets.Button(description='Clear Output', button_style='danger')\n",
    "\n",
    "# Button event bindings\n",
    "run_button.on_click(on_click_trace)\n",
    "clear_button.on_click(on_click_clear)\n",
    "\n",
    "##############\n",
    "# APP LAYOUT #\n",
    "##############\n",
    "app_layout = VBox([\n",
    "    widgets.HTML(\"<div id='intro' style='width:670px;border-radius:0.25rem;background-color:#f8f9fa;border:1px solid #DEE2E6;padding:15px;margin-bottom:10px;'><h1>🕵️ URL Hops Inspector</h1><p>Inspect and analyze the full chain of HTTP URL hops caused by redirections, complete with metadata!</p><span><a href='https://github.com/Blodarn/url-hops-inspector' title='GitHub'>🔗 GitHub</a></span></div>\"),\n",
    "    user_url,\n",
    "    HBox([run_button, clear_button]),\n",
    "    output\n",
    "])\n",
    "\n",
    "# Display the App\n",
    "display(app_layout)"
   ]
  },
  {
   "cell_type": "code",
   "execution_count": null,
   "id": "92890a23-e0f4-4ad5-a9f5-8d806f338302",
   "metadata": {
    "jupyter": {
     "source_hidden": true
    }
   },
   "outputs": [],
   "source": []
  }
 ],
 "metadata": {
  "kernelspec": {
   "display_name": "Python 3 (ipykernel)",
   "language": "python",
   "name": "python3"
  },
  "language_info": {
   "codemirror_mode": {
    "name": "ipython",
    "version": 3
   },
   "file_extension": ".py",
   "mimetype": "text/x-python",
   "name": "python",
   "nbconvert_exporter": "python",
   "pygments_lexer": "ipython3",
   "version": "3.10.18"
  }
 },
 "nbformat": 4,
 "nbformat_minor": 5
}
